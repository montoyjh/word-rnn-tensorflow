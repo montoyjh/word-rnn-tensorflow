{
 "cells": [
  {
   "cell_type": "code",
   "execution_count": null,
   "metadata": {
    "collapsed": true
   },
   "outputs": [],
   "source": [
    "from nytimesarticle import articleAPI\n",
    "import requests\n",
    "from lxml import etree, html"
   ]
  },
  {
   "cell_type": "code",
   "execution_count": null,
   "metadata": {
    "collapsed": true
   },
   "outputs": [],
   "source": [
    "api = articleAPI(\"YOUR_API_KEY_HERE\")"
   ]
  },
  {
   "cell_type": "code",
   "execution_count": null,
   "metadata": {
    "collapsed": false
   },
   "outputs": [],
   "source": [
    "fq = {\"byline\":\"David Brooks\", \"section_name\":\"Opinion\"}\n",
    "data = api.search(q=\"David Brooks\", fq=fq)\n",
    "pages = data['response']['meta']['hits'] // 10"
   ]
  },
  {
   "cell_type": "code",
   "execution_count": null,
   "metadata": {
    "collapsed": false
   },
   "outputs": [],
   "source": [
    "docs = []\n",
    "for page_num in range(pages):\n",
    "    search = api.search(q=\"David Brooks\", fq=fq,\n",
    "                        sort=\"newest\", page=page_num)\n",
    "    for doc in search['response']['docs']:\n",
    "        doc_out = {}\n",
    "        web_url = doc['web_url']\n",
    "        tree = html.fromstring(requests.get(web_url).content)\n",
    "        paragraphs = tree.xpath('//p[@class=\"story-body-text story-content\"]')\n",
    "        doc_out['text'] = [p.text_content() for p in paragraphs]\n",
    "        doc_out['headline'] = doc['headline']['main']\n",
    "        docs.append(doc_out)"
   ]
  },
  {
   "cell_type": "code",
   "execution_count": null,
   "metadata": {
    "collapsed": true
   },
   "outputs": [],
   "source": [
    "input_txt = ''\n",
    "for doc in docs:\n",
    "    text = doc['headline'].upper() + '\\n\\n' + '\\n'.join(doc['text'])\n",
    "    input_txt += text + '\\n\\n\\n'"
   ]
  },
  {
   "cell_type": "code",
   "execution_count": null,
   "metadata": {
    "collapsed": false
   },
   "outputs": [],
   "source": [
    "with open('input.txt', 'w') as f:\n",
    "    f.write(input_txt.encode('UTF-8'))"
   ]
  },
  {
   "cell_type": "code",
   "execution_count": null,
   "metadata": {
    "collapsed": false
   },
   "outputs": [],
   "source": []
  },
  {
   "cell_type": "code",
   "execution_count": null,
   "metadata": {
    "collapsed": false
   },
   "outputs": [],
   "source": [
    "len(docs)"
   ]
  },
  {
   "cell_type": "code",
   "execution_count": null,
   "metadata": {
    "collapsed": true
   },
   "outputs": [],
   "source": []
  }
 ],
 "metadata": {
  "kernelspec": {
   "display_name": "Python 2",
   "language": "python",
   "name": "python2"
  },
  "language_info": {
   "codemirror_mode": {
    "name": "ipython",
    "version": 2
   },
   "file_extension": ".py",
   "mimetype": "text/x-python",
   "name": "python",
   "nbconvert_exporter": "python",
   "pygments_lexer": "ipython2",
   "version": "2.7.13"
  }
 },
 "nbformat": 4,
 "nbformat_minor": 2
}
